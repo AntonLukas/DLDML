{
 "cells": [
  {
   "cell_type": "code",
   "execution_count": 1,
   "metadata": {
    "colab": {
     "base_uri": "https://localhost:8080/"
    },
    "execution": {
     "iopub.execute_input": "2023-08-04T10:58:23.605595Z",
     "iopub.status.busy": "2023-08-04T10:58:23.605297Z",
     "iopub.status.idle": "2023-08-04T10:58:26.384120Z",
     "shell.execute_reply": "2023-08-04T10:58:26.383011Z",
     "shell.execute_reply.started": "2023-08-04T10:58:23.605566Z"
    },
    "executionInfo": {
     "elapsed": 10497,
     "status": "ok",
     "timestamp": 1689855998864,
     "user": {
      "displayName": "Anton Lukas",
      "userId": "17004432995420014713"
     },
     "user_tz": -120
    },
    "id": "UHwwRPWBvSMv",
    "outputId": "46f7ac7d-53f8-46a9-9038-85303ed50509"
   },
   "source": [
    "import os\n",
    "\n",
    "import matplotlib.pyplot as plt\n",
    "import torch\n",
    "from torch.utils.data import DataLoader\n",
    "from torchvision import transforms\n",
    "\n",
    "from utils.final_cnn import CNN_BINARY_small\n",
    "from utils.final_utils_binary import train, make_predictions, get_conv_layers, plot_feature_maps, plot_batch_features, plot_weights, plot_accuracy_loss\n",
    "from utils.final_dataset import SingleClassCustomImageDataset"
   ],
   "outputs": []
  },
  {
   "cell_type": "code",
   "execution_count": 2,
   "metadata": {
    "collapsed": false,
    "execution": {
     "iopub.execute_input": "2023-08-04T10:58:26.386262Z",
     "iopub.status.busy": "2023-08-04T10:58:26.385784Z",
     "iopub.status.idle": "2023-08-04T10:58:27.164968Z",
     "shell.execute_reply": "2023-08-04T10:58:27.161969Z",
     "shell.execute_reply.started": "2023-08-04T10:58:26.386195Z"
    },
    "jupyter": {
     "outputs_hidden": false
    }
   },
   "source": [
    "print(f'PyTorch version: {torch.__version__}')\n",
    "print('*'*10)\n",
    "if torch.cuda.is_available():\n",
    "    device = torch.device('cuda:0')\n",
    "    use_cuda = True\n",
    "    print(f\"Using CUDA.\")\n",
    "\n",
    "    print(f'_CUDA version: ')\n",
    "    !nvcc --version\n",
    "    print('*'*10)\n",
    "    print(f'CUDNN version: {torch.backends.cudnn.version()}')\n",
    "    print(f'Available GPU devices: {torch.cuda.device_count()}')\n",
    "    print(f'Device Name: {torch.cuda.get_device_name()}')\n",
    "else:\n",
    "    device = torch.device('cpu')\n",
    "    use_cuda = False\n",
    "    print(f\"Using CPU.\")"
   ],
   "outputs": []
  },
  {
   "cell_type": "code",
   "execution_count": 3,
   "metadata": {
    "execution": {
     "iopub.execute_input": "2023-08-04T10:58:27.168165Z",
     "iopub.status.busy": "2023-08-04T10:58:27.167780Z",
     "iopub.status.idle": "2023-08-04T10:58:27.179102Z",
     "shell.execute_reply": "2023-08-04T10:58:27.177673Z",
     "shell.execute_reply.started": "2023-08-04T10:58:27.168117Z"
    },
    "executionInfo": {
     "elapsed": 4,
     "status": "ok",
     "timestamp": 1689855998865,
     "user": {
      "displayName": "Anton Lukas",
      "userId": "17004432995420014713"
     },
     "user_tz": -120
    },
    "id": "O3glFht7sDZj"
   },
   "source": [
    "# Testing\n",
    "date = \"230912\"\n",
    "model_name = \"SGD_Default\"\n",
    "torch.manual_seed(47)\n",
    "# Target classification\n",
    "i_target = 0\n",
    "# Assign output string for classification target and define the input directories and associated annotation files\n",
    "if i_target == 0:\n",
    "    input_directory = os.path.join(os.path.join(os.path.join(os.getcwd(), 'Data'), 'S7Test1D_frac'), 'Data')\n",
    "    annotations_file = os.path.join(os.path.join(os.path.join(os.getcwd(), 'Data'), 'S7Test1D_frac'), 'S7Test1D_frac_class_list.csv')\n",
    "    out_classification_string = \"Fracture\"\n",
    "elif i_target == 1:\n",
    "    input_directory = os.path.join(os.path.join(os.path.join(os.getcwd(), 'Data'), 'S7Test1D_rech'), 'Data')\n",
    "    annotations_file = os.path.join(os.path.join(os.path.join(os.getcwd(), 'Data'), 'S7Test1D_rech'), 'S7Test1D_rech_class_list.csv')\n",
    "    out_classification_string = \"Recharge boundary\"\n",
    "elif i_target == 2:\n",
    "    input_directory = os.path.join(os.path.join(os.path.join(os.getcwd(), 'Data'), 'S7Test1D_nflow'), 'Data')\n",
    "    annotations_file = os.path.join(os.path.join(os.path.join(os.getcwd(), 'Data'), 'S7Test1D_nflow'), 'S7Test1D_nflow_class_list.csv')\n",
    "    out_classification_string = \"Impermeable boundary\"\n",
    "# Define important variables\n",
    "batch_size = 16\n",
    "number_epochs = 100\n",
    "dropout_rate = 0.00\n",
    "training_set_size = 0.80\n",
    "# SGD hyperparameters\n",
    "learning_rate = 1e-2\n",
    "momentum = 0.90\n",
    "# Define the image transformations\n",
    "transform = transforms.Compose([\n",
    "    transforms.ToPILImage(),\n",
    "    transforms.Resize((120,160)),\n",
    "    transforms.Grayscale(1),\n",
    "    transforms.ToTensor(),\n",
    "    transforms.Normalize((0.5,) ,(0.5,))\n",
    "])"
   ],
   "outputs": []
  },
  {
   "cell_type": "code",
   "execution_count": 4,
   "source": [
    "# Define the datasets\n",
    "dataset = SingleClassCustomImageDataset(annotations_file, input_directory, dataset_label_index=i_target, transform=transform, )\n",
    "# Print the number of items in the full dataset\n",
    "print(f\"Total dataset length: {len(dataset)}\")\n",
    "# Get the number of training and validation images\n",
    "train_number = int(len(dataset) * training_set_size)\n",
    "validation_number = int(len(dataset) - train_number)\n",
    "# Split the data between training and validation\n",
    "train_dataset, validation_dataset = torch.utils.data.random_split(dataset, [train_number, validation_number])\n",
    "# Print the number of items in the split datasets\n",
    "print(f\"    Train dataset length: {len(train_dataset)}\")\n",
    "print(f\"    Validation dataset length: {len(validation_dataset)}\")\n",
    "# Load the data in batches\n",
    "train_dataloader = DataLoader(train_dataset, batch_size=batch_size, shuffle=True)\n",
    "validation_dataloader = DataLoader(validation_dataset, batch_size=batch_size, shuffle=True)\n",
    "# Get the list of class options\n",
    "classes_list = [f\"{out_classification_string} absent\", f\"{out_classification_string} present\"]"
   ],
   "metadata": {
    "collapsed": false
   },
   "outputs": []
  },
  {
   "cell_type": "code",
   "execution_count": 5,
   "source": [
    "dl_iter = iter(train_dataloader)\n",
    "dl_inputs = next(dl_iter)\n",
    "plt.imshow(dl_inputs['image'][0].permute(1, 2, 0), interpolation='none', cmap='gray')"
   ],
   "metadata": {
    "collapsed": false
   },
   "outputs": []
  },
  {
   "cell_type": "code",
   "execution_count": 6,
   "metadata": {
    "colab": {
     "base_uri": "https://localhost:8080/"
    },
    "execution": {
     "iopub.execute_input": "2023-08-04T10:58:27.205019Z",
     "iopub.status.busy": "2023-08-04T10:58:27.204524Z",
     "iopub.status.idle": "2023-08-04T13:21:58.251825Z",
     "shell.execute_reply": "2023-08-04T13:21:58.250312Z",
     "shell.execute_reply.started": "2023-08-04T10:58:27.204978Z"
    },
    "id": "j3LmeLUdsDZl",
    "outputId": "215da4bb-3e4a-44b3-e0f1-64e36e572f06"
   },
   "source": [
    "model = CNN_BINARY_small(dropout_rate).to(device)\n",
    "# Create the output name for the current iteration\n",
    "model_name_iter = f\"{date}_{model_name}\"\n",
    "# Select the optimizer algorithm\n",
    "optimizer = torch.optim.SGD(model.parameters(), lr=learning_rate, momentum=momentum)\n",
    "# Select to loss function\n",
    "loss_func = torch.nn.BCELoss()\n",
    "# Train the model\n",
    "training_results = train(train_dataloader=train_dataloader, validation_dataloader=validation_dataloader, input_model=model, optimizer=optimizer, loss_func=loss_func, scheduler=False, number_epochs=number_epochs, device=device, use_scheduler=False)\n",
    "\n",
    "accuracies = training_results[0]\n",
    "checkpoint_losses = training_results[1]\n",
    "\n",
    "train_precision_metrics = training_results[2]\n",
    "test_precision_metrics = training_results[3]\n",
    "train_recall_metrics = training_results[4]\n",
    "test_recall_metrics = training_results[5]\n",
    "train_f1_scores = training_results[6]\n",
    "test_f1_scores = training_results[7]\n",
    "\n",
    "plot_accuracy_loss(model_name=model_name_iter, model_parameter=False, accuracies=accuracies, checkpoint_losses=checkpoint_losses)\n",
    "\n",
    "torch.save(model.state_dict(), f'{model_name_iter}_weights.pth')\n",
    "torch.save(model, f'{model_name_iter}.pth')"
   ],
   "outputs": []
  },
  {
   "cell_type": "code",
   "execution_count": 7,
   "metadata": {
    "execution": {
     "iopub.execute_input": "2023-08-04T14:06:45.332491Z",
     "iopub.status.busy": "2023-08-04T14:06:45.331569Z",
     "iopub.status.idle": "2023-08-04T14:07:42.753022Z",
     "shell.execute_reply": "2023-08-04T14:07:42.752025Z",
     "shell.execute_reply.started": "2023-08-04T14:06:45.332452Z"
    },
    "id": "6WEKOgMZsDZq"
   },
   "source": [
    "make_predictions(train_dataloader, model, device)"
   ],
   "outputs": []
  },
  {
   "cell_type": "code",
   "execution_count": 8,
   "metadata": {
    "execution": {
     "iopub.status.busy": "2023-08-04T10:47:08.843921Z",
     "iopub.status.idle": "2023-08-04T10:47:08.844508Z",
     "shell.execute_reply": "2023-08-04T10:47:08.844220Z",
     "shell.execute_reply.started": "2023-08-04T10:47:08.844191Z"
    },
    "id": "I319_joEREN-"
   },
   "source": [
    "make_predictions(validation_dataloader, model, device)"
   ],
   "outputs": []
  },
  {
   "cell_type": "code",
   "execution_count": 9,
   "metadata": {
    "execution": {
     "iopub.execute_input": "2023-08-04T14:07:58.131258Z",
     "iopub.status.busy": "2023-08-04T14:07:58.130157Z",
     "iopub.status.idle": "2023-08-04T14:07:58.468902Z",
     "shell.execute_reply": "2023-08-04T14:07:58.467539Z",
     "shell.execute_reply.started": "2023-08-04T14:07:58.131227Z"
    },
    "id": "x7zCK5wNsDZr"
   },
   "source": [
    "conv_layers = get_conv_layers(model_children=list(model.children()))\n",
    "fig_feature_maps = plot_feature_maps(input_dataloader=train_dataloader, conv_layers=conv_layers, device=device)\n",
    "plt.savefig(f\"{model_name_iter}_act_big_4.png\")\n",
    "plt.close(fig_feature_maps)"
   ],
   "outputs": []
  },
  {
   "cell_type": "code",
   "execution_count": 10,
   "metadata": {
    "execution": {
     "iopub.execute_input": "2023-08-04T14:08:02.489552Z",
     "iopub.status.busy": "2023-08-04T14:08:02.488824Z",
     "iopub.status.idle": "2023-08-04T14:08:04.722233Z",
     "shell.execute_reply": "2023-08-04T14:08:04.721105Z",
     "shell.execute_reply.started": "2023-08-04T14:08:02.489521Z"
    },
    "id": "CvgUjDHmsDZs"
   },
   "source": [
    "fig_batch = plot_batch_features(input_dataloader=train_dataloader, conv_layers=conv_layers, device=device, batch_size=batch_size, label_names=classes_list, variance=0)\n",
    "plt.savefig(f\"{model_name_iter}_act_4.png\")\n",
    "plt.close(fig_batch)"
   ],
   "outputs": []
  },
  {
   "cell_type": "code",
   "execution_count": 11,
   "metadata": {
    "execution": {
     "iopub.execute_input": "2023-08-04T14:11:04.273727Z",
     "iopub.status.busy": "2023-08-04T14:11:04.272121Z",
     "iopub.status.idle": "2023-08-04T14:11:04.783868Z",
     "shell.execute_reply": "2023-08-04T14:11:04.783041Z",
     "shell.execute_reply.started": "2023-08-04T14:11:04.273691Z"
    },
    "id": "G4V86OqDsDZt"
   },
   "source": [
    "plot_weights(conv_layers)"
   ],
   "outputs": []
  },
  {
   "cell_type": "code",
   "execution_count": 12,
   "metadata": {
    "id": "25K3YADOsDZt"
   },
   "source": [
    "# Define the input directories and associated annotation files\n",
    "gp_input_directory = os.path.join(os.path.join(os.path.join(os.getcwd(), 'Data'), 'GroundProof'), 'Data')\n",
    "gp_annotations_file = os.path.join(os.path.join(os.path.join(os.getcwd(), 'Data'), 'GroundProof'), 'GroundProof_class_list.csv')\n",
    "\n",
    "# Define the datasets\n",
    "gp_dataset = SingleClassCustomImageDataset(gp_annotations_file, gp_input_directory, dataset_label_index=i_target, transform=transform, )\n",
    "# Print the number of items in the full dataset\n",
    "print(f\"Total dataset length: {len(gp_dataset)}\")\n",
    "# Load the data in batches\n",
    "gp_dataloader = DataLoader(gp_dataset, batch_size=batch_size, shuffle=True)"
   ],
   "outputs": []
  },
  {
   "cell_type": "code",
   "execution_count": 13,
   "source": [
    "gp_iter = iter(gp_dataloader)\n",
    "gp_inputs = next(gp_iter)\n",
    "plt.imshow(gp_inputs['image'][0].permute(1, 2, 0), interpolation='none', cmap='gray')"
   ],
   "metadata": {
    "collapsed": false
   },
   "outputs": []
  },
  {
   "cell_type": "code",
   "execution_count": 14,
   "source": [
    "fig_real_batch = plot_batch_features(input_dataloader=gp_dataloader, conv_layers=conv_layers, device=device, batch_size=batch_size, label_names=classes_list, variance=0)\n",
    "plt.savefig(f\"{model_name_iter}_act_real1.png\")\n",
    "plt.close(fig_real_batch)"
   ],
   "metadata": {
    "collapsed": false
   },
   "outputs": []
  },
  {
   "cell_type": "code",
   "execution_count": 15,
   "source": [
    "fig_real_batch_2 = plot_batch_features(input_dataloader=gp_dataloader, conv_layers=conv_layers, device=device, batch_size=batch_size, label_names=classes_list, variance=1)\n",
    "plt.savefig(f\"{model_name_iter}_act_real2.png\")\n",
    "plt.close(fig_real_batch_2)"
   ],
   "metadata": {
    "collapsed": false
   },
   "outputs": []
  },
  {
   "cell_type": "code",
   "execution_count": 16,
   "source": [
    "fig_real_batch_3 = plot_batch_features(input_dataloader=gp_dataloader, conv_layers=conv_layers, device=device, batch_size=batch_size, label_names=classes_list, variance=1)\n",
    "plt.savefig(f\"{model_name_iter}_act_real3.png\")\n",
    "plt.close(fig_real_batch_3)"
   ],
   "metadata": {
    "collapsed": false
   },
   "outputs": []
  },
  {
   "cell_type": "code",
   "execution_count": 17,
   "source": [
    "fig_real_batch_4 = plot_batch_features(input_dataloader=gp_dataloader, conv_layers=conv_layers, device=device, batch_size=batch_size, label_names=classes_list, variance=0)\n",
    "plt.savefig(f\"{model_name_iter}_act_real4.png\")\n",
    "plt.close(fig_real_batch_4)"
   ],
   "metadata": {
    "collapsed": false
   },
   "outputs": []
  },
  {
   "cell_type": "code",
   "execution_count": 19,
   "source": [
    "color_cycle = plt.rcParams['axes.prop_cycle']()\n",
    "\n",
    "fig_losses, ax_losses = plt.subplots()\n",
    "ax_losses.plot(train_precision_metrics, label=\"Train precision\", **next(color_cycle))\n",
    "ax_losses.plot(test_precision_metrics, label=\"Validation precision\", **next(color_cycle))\n",
    "ax_losses.set_xlabel('Epochs')\n",
    "ax_losses.set_ylabel('Precision')\n",
    "\n",
    "ax_accuracy = ax_losses.twinx()\n",
    "ax_accuracy.plot(train_recall_metrics, label=\"Train recall\", **next(color_cycle))\n",
    "ax_accuracy.plot(test_recall_metrics, label=\"Validation recall\", **next(color_cycle))\n",
    "ax_accuracy.set_ylabel('Recall')\n",
    "\n",
    "handles, labels = [(a + b) for a, b in zip(ax_losses.get_legend_handles_labels(), ax_accuracy.get_legend_handles_labels())]\n",
    "fig_losses.legend(handles, labels, bbox_to_anchor=(0.83, 1.05), ncol=2)\n",
    "\n",
    "fig_losses.savefig(f\"{date}_{model_name}_add_met.png\")"
   ],
   "metadata": {
    "collapsed": false,
    "ExecuteTime": {
     "end_time": "2023-11-13T12:32:14.264026900Z",
     "start_time": "2023-11-13T12:32:14.079844400Z"
    }
   },
   "outputs": []
  },
  {
   "cell_type": "code",
   "execution_count": 20,
   "source": [
    "fig_score, ax_score = plt.subplots(dpi=100)\n",
    "ax_score.plot(train_f1_scores, label=\"Train F1 score\", **next(color_cycle))\n",
    "ax_score.plot(test_f1_scores, label=\"Validation F1 score\", **next(color_cycle))\n",
    "ax_score.set_xlabel('Epochs')\n",
    "ax_score.set_ylabel('F1 Score')\n",
    "\n",
    "fig_score.legend(loc='center')\n",
    "fig_score.savefig(f\"{date}_{model_name}_add_F1.png\")"
   ],
   "metadata": {
    "collapsed": false,
    "ExecuteTime": {
     "end_time": "2023-11-13T12:32:15.555541100Z",
     "start_time": "2023-11-13T12:32:15.450393100Z"
    }
   },
   "outputs": []
  },
  {
   "cell_type": "code",
   "execution_count": null,
   "source": [],
   "metadata": {
    "collapsed": false
   },
   "outputs": []
  }
 ],
 "metadata": {
  "accelerator": "GPU",
  "colab": {
   "gpuType": "T4",
   "provenance": [
    {
     "file_id": "1au4y0MqDACGm8S8y2EVliwuH0LJo3mcV",
     "timestamp": 1684490203319
    }
   ]
  },
  "gpuClass": "standard",
  "kernelspec": {
   "display_name": "Python 3 (ipykernel)",
   "language": "python",
   "name": "python3"
  },
  "language_info": {
   "codemirror_mode": {
    "name": "ipython",
    "version": 3
   },
   "file_extension": ".py",
   "mimetype": "text/x-python",
   "name": "python",
   "nbconvert_exporter": "python",
   "pygments_lexer": "ipython3",
   "version": "3.9.16"
  }
 },
 "nbformat": 4,
 "nbformat_minor": 4
}
