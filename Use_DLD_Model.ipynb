{
 "cells": [
  {
   "cell_type": "code",
   "id": "initial_id",
   "metadata": {
    "collapsed": true,
    "ExecuteTime": {
     "end_time": "2025-02-27T07:01:46.254199Z",
     "start_time": "2025-02-27T07:01:44.755439Z"
    }
   },
   "source": [
    "import os\n",
    "import torch"
   ],
   "outputs": [],
   "execution_count": 1
  },
  {
   "metadata": {
    "ExecuteTime": {
     "end_time": "2025-02-27T07:01:46.259308Z",
     "start_time": "2025-02-27T07:01:46.255204Z"
    }
   },
   "cell_type": "code",
   "source": [
    "print(f'PyTorch version: {torch.__version__}')\n",
    "print('*'*10)\n",
    "if torch.cuda.is_available():\n",
    "    device = torch.device('cuda:0')\n",
    "    use_cuda = True\n",
    "    print(f\"Using CUDA.\")\n",
    "\n",
    "    print(f'_CUDA version: ')\n",
    "    !nvcc --version\n",
    "    print('*'*10)\n",
    "    print(f'CUDNN version: {torch.backends.cudnn.version()}')\n",
    "    print(f'Available GPU devices: {torch.cuda.device_count()}')\n",
    "    print(f'Device Name: {torch.cuda.get_device_name()}')\n",
    "else:\n",
    "    device = torch.device('cpu')\n",
    "    use_cuda = False\n",
    "    print(f\"Using CPU.\")"
   ],
   "id": "f021a08213e393a8",
   "outputs": [
    {
     "name": "stdout",
     "output_type": "stream",
     "text": [
      "PyTorch version: 2.6.0+cpu\n",
      "**********\n",
      "Using CPU.\n"
     ]
    }
   ],
   "execution_count": 2
  },
  {
   "metadata": {
    "ExecuteTime": {
     "end_time": "2025-02-27T07:01:49.430561Z",
     "start_time": "2025-02-27T07:01:46.260315Z"
    }
   },
   "cell_type": "code",
   "source": [
    "from torch.utils.data import DataLoader\n",
    "from torchvision import transforms\n",
    "\n",
    "import matplotlib.pyplot as plt\n",
    "\n",
    "from utils.final_cnn import CNN_BINARY_small\n",
    "from utils.data_prep import load_file, data_preparation, plot_derivative, write_class_list\n",
    "from utils.final_utils_binary import make_predictions, get_conv_layers, plot_feature_maps, plot_batch_features\n",
    "from utils.final_dataset import SingleClassCustomImageDataset"
   ],
   "id": "6d39bdd28be0399e",
   "outputs": [],
   "execution_count": 3
  },
  {
   "metadata": {
    "ExecuteTime": {
     "end_time": "2025-02-27T07:01:49.440207Z",
     "start_time": "2025-02-27T07:01:49.430561Z"
    }
   },
   "cell_type": "code",
   "source": [
    "input_name = \"PPiezo\"\n",
    "input_file = os.path.join(os.path.join(os.getcwd(), \"input\"), \"PPiezo_UO5.xlsx\")\n",
    "output_directory = os.path.join(os.path.join(os.getcwd(), 'prediction_data'), 'data')\n",
    "output_image_file = os.path.join(output_directory, f'{input_name}.png')\n",
    "output_class_list = os.path.join(os.path.join(os.getcwd(), 'prediction_data'), f'{input_name}_class_list.csv')\n",
    "results_directory = os.path.join(os.getcwd(), 'output')\n",
    "raw_data = load_file(input_file)"
   ],
   "id": "5f0e87d6a5c1c48",
   "outputs": [],
   "execution_count": 4
  },
  {
   "metadata": {
    "ExecuteTime": {
     "end_time": "2025-02-27T07:01:49.444703Z",
     "start_time": "2025-02-27T07:01:49.441211Z"
    }
   },
   "cell_type": "code",
   "source": "derivative_data = data_preparation(raw_data=raw_data)",
   "id": "7a3d93013535d400",
   "outputs": [],
   "execution_count": 5
  },
  {
   "metadata": {
    "ExecuteTime": {
     "end_time": "2025-02-27T07:01:49.506086Z",
     "start_time": "2025-02-27T07:01:49.445710Z"
    }
   },
   "cell_type": "code",
   "source": [
    "plot_derivative(derivative_data, output_image_file)\n",
    "write_class_list([input_name, 1], output_class_list)"
   ],
   "id": "aeea457c050830bb",
   "outputs": [
    {
     "name": "stderr",
     "output_type": "stream",
     "text": [
      "C:\\Users\\2009038981\\Code\\DLDML\\utils\\data_prep.py:108: UserWarning: No artists with labels found to put in legend.  Note that artists whose label start with an underscore are ignored when legend() is called with no argument.\n",
      "  ax.legend().set_visible(False)\n"
     ]
    }
   ],
   "execution_count": 6
  },
  {
   "metadata": {
    "ExecuteTime": {
     "end_time": "2025-02-27T07:01:49.509916Z",
     "start_time": "2025-02-27T07:01:49.507092Z"
    }
   },
   "cell_type": "code",
   "source": [
    "# Define the image transformations\n",
    "transform = transforms.Compose([\n",
    "    transforms.ToPILImage(),\n",
    "    transforms.Resize((120,160)),\n",
    "    transforms.Grayscale(1),\n",
    "    transforms.ToTensor(),\n",
    "    transforms.Normalize((0.5,) ,(0.5,))\n",
    "])"
   ],
   "id": "a53ecc77f9aca9dc",
   "outputs": [],
   "execution_count": 7
  },
  {
   "metadata": {
    "ExecuteTime": {
     "end_time": "2025-02-27T07:01:49.518315Z",
     "start_time": "2025-02-27T07:01:49.510923Z"
    }
   },
   "cell_type": "code",
   "source": [
    "batch_size = 16\n",
    "# Define the datasets\n",
    "gp_dataset = SingleClassCustomImageDataset(output_class_list, output_directory, transform=transform)\n",
    "# Load the data in batches\n",
    "gp_dataloader = DataLoader(gp_dataset, batch_size=batch_size, shuffle=True)"
   ],
   "id": "ab79b18df0571d61",
   "outputs": [],
   "execution_count": 8
  },
  {
   "metadata": {
    "ExecuteTime": {
     "end_time": "2025-02-27T07:01:49.527941Z",
     "start_time": "2025-02-27T07:01:49.519321Z"
    }
   },
   "cell_type": "code",
   "source": [
    "model = torch.load('230912_SGD_Default.pth', weights_only=False, map_location=device)\n",
    "model.load_state_dict(torch.load('230912_SGD_Default_weights.pth', map_location=device))\n",
    "model.to(device)"
   ],
   "id": "b9c61be822305a37",
   "outputs": [
    {
     "data": {
      "text/plain": [
       "CNN_BINARY_small(\n",
       "  (conv1): Sequential(\n",
       "    (0): Conv2d(1, 4, kernel_size=(3, 3), stride=(3, 3))\n",
       "    (1): ReLU()\n",
       "    (2): MaxPool2d(kernel_size=2, stride=2, padding=0, dilation=1, ceil_mode=False)\n",
       "    (3): Dropout2d(p=0.0, inplace=False)\n",
       "  )\n",
       "  (conv2): Sequential(\n",
       "    (0): Conv2d(4, 8, kernel_size=(3, 3), stride=(3, 3))\n",
       "    (1): ReLU()\n",
       "    (2): MaxPool2d(kernel_size=2, stride=2, padding=0, dilation=1, ceil_mode=False)\n",
       "    (3): Dropout2d(p=0.0, inplace=False)\n",
       "  )\n",
       "  (out): Linear(in_features=96, out_features=1, bias=True)\n",
       "  (sigm): Sigmoid()\n",
       ")"
      ]
     },
     "execution_count": 9,
     "metadata": {},
     "output_type": "execute_result"
    }
   ],
   "execution_count": 9
  },
  {
   "metadata": {
    "ExecuteTime": {
     "end_time": "2025-02-27T07:01:49.544723Z",
     "start_time": "2025-02-27T07:01:49.528952Z"
    }
   },
   "cell_type": "code",
   "source": "make_predictions(input_model=model, input_dataloader=gp_dataloader, device=device)",
   "id": "1e990ec9d983366a",
   "outputs": [
    {
     "name": "stdout",
     "output_type": "stream",
     "text": [
      "[array([1.], dtype=float32)]\n"
     ]
    }
   ],
   "execution_count": 10
  },
  {
   "metadata": {
    "ExecuteTime": {
     "end_time": "2025-02-27T07:01:49.549711Z",
     "start_time": "2025-02-27T07:01:49.545730Z"
    }
   },
   "cell_type": "code",
   "source": [
    "conv_layers = get_conv_layers(model_children=list(model.children()))\n",
    "# Get the list of class options\n",
    "classes_list = [f\"Fracture absent\", f\"Fracture present\"]"
   ],
   "id": "ca69d95d7e62379f",
   "outputs": [],
   "execution_count": 11
  },
  {
   "metadata": {
    "ExecuteTime": {
     "end_time": "2025-02-27T07:01:49.620662Z",
     "start_time": "2025-02-27T07:01:49.550722Z"
    }
   },
   "cell_type": "code",
   "source": [
    "fig_real_batch = plot_feature_maps(input_dataloader=gp_dataloader, conv_layers=conv_layers, device=device)\n",
    "plt.savefig(os.path.join(results_directory, f\"{input_name}_activations.png\"))\n",
    "plt.close(fig_real_batch)"
   ],
   "id": "4b57fc9cef33bf3e",
   "outputs": [],
   "execution_count": 12
  },
  {
   "metadata": {
    "ExecuteTime": {
     "end_time": "2025-02-27T07:01:49.623604Z",
     "start_time": "2025-02-27T07:01:49.621666Z"
    }
   },
   "cell_type": "code",
   "source": "",
   "id": "f040d1778ae91c41",
   "outputs": [],
   "execution_count": 12
  }
 ],
 "metadata": {
  "kernelspec": {
   "display_name": "Python 3",
   "language": "python",
   "name": "python3"
  },
  "language_info": {
   "codemirror_mode": {
    "name": "ipython",
    "version": 2
   },
   "file_extension": ".py",
   "mimetype": "text/x-python",
   "name": "python",
   "nbconvert_exporter": "python",
   "pygments_lexer": "ipython2",
   "version": "2.7.6"
  }
 },
 "nbformat": 4,
 "nbformat_minor": 5
}
